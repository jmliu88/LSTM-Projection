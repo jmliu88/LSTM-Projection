{
 "cells": [
  {
   "cell_type": "code",
   "execution_count": 21,
   "metadata": {
    "collapsed": false
   },
   "outputs": [],
   "source": [
    "import LSTMP\n",
    "reload(LSTMP)\n",
    "from LSTMP import LSTMPLayer\n",
    "import lasagne\n",
    "from lasagne.layers import *"
   ]
  },
  {
   "cell_type": "code",
   "execution_count": 35,
   "metadata": {
    "collapsed": false
   },
   "outputs": [],
   "source": [
    "# Build Network\n",
    "num_inputs, num_units, num_cells, num_classes = 40, 512, 2048, 14247\n",
    "\n",
    "l_inp = InputLayer((None, None, num_inputs))\n",
    "\n",
    "batchsize, seqlen, _ = l_inp.input_var.shape\n",
    "l_lstm=l_inp\n",
    "for _ in range(1):\n",
    "    l_lstm = LSTMPLayer(l_lstm, num_units=num_units, num_cells=num_cells)\n",
    "\n",
    "l_shp = ReshapeLayer(l_lstm, (-1, num_units))\n",
    "l_dense = DenseLayer(l_shp, num_units=num_classes, nonlinearity=lasagne.nonlinearities.softmax)\n",
    "\n",
    "l_out2 = ReshapeLayer(l_dense, (batchsize, seqlen, num_classes))"
   ]
  },
  {
   "cell_type": "code",
   "execution_count": 36,
   "metadata": {
    "collapsed": false
   },
   "outputs": [
    {
     "name": "stdout",
     "output_type": "stream",
     "text": [
      "num of parameters: 12896167\n"
     ]
    }
   ],
   "source": [
    "# Count number of parameters in the network\n",
    "k2 = lasagne.layers.get_all_param_values(l_out2)\n",
    "print \"num of parameters: %d\"% reduce(lambda x,y:x+y, [k.size for k in k2])"
   ]
  },
  {
   "cell_type": "code",
   "execution_count": 111,
   "metadata": {
    "collapsed": false
   },
   "outputs": [
    {
     "name": "stdout",
     "output_type": "stream",
     "text": [
      "{W_cell_to_outgate: (6000,), b_ingate: (6000,), b_forgetgate: (6000,), hid_init: (1, 800), W_cell_to_forgetgate: (6000,), W_cell_to_ingate: (6000,), projection: (6000, 800), b_cell: (6000,), W_in_to_ingate: (40, 6000), cell_init: (1, 6000), W_hid_to_forgetgate: (800, 6000), W_in_to_cell: (40, 6000), W_in_to_outgate: (40, 6000), W_hid_to_ingate: (800, 6000), W_hid_to_outgate: (800, 6000), b_outgate: (6000,), W_in_to_forgetgate: (40, 6000), W_hid_to_cell: (800, 6000)}\n"
     ]
    }
   ],
   "source": [
    "d={}\n",
    "for i,l in enumerate(lasagne.layers.get_all_params(l_lstm)):\n",
    "    d[l]=lasagne.layers.get_all_param_values(l_lstm)[i].shape\n",
    "print d"
   ]
  },
  {
   "cell_type": "code",
   "execution_count": 39,
   "metadata": {
    "collapsed": true
   },
   "outputs": [],
   "source": [
    "# Conventional LSTM\n",
    "num_inputs, num_units, num_classes = 40, 385, 14247\n",
    "\n",
    "l_inp = InputLayer((None, None, num_inputs))\n",
    "\n",
    "batchsize, seqlen, _ = l_inp.input_var.shape\n",
    "l_lstm=l_inp\n",
    "for _ in range(num):\n",
    "    l_lstm = LSTMLayer(l_inp, num_units=num_units)\n",
    "    \n",
    "l_shp = ReshapeLayer(l_lstm, (-1, num_units))\n",
    "l_dense = DenseLayer(l_shp, num_units=num_classes, nonlinearity=lasagne.nonlinearities.softmax)\n",
    "\n",
    "\n",
    "l_out1 = ReshapeLayer(l_dense, (batchsize, seqlen, num_classes))\n"
   ]
  },
  {
   "cell_type": "code",
   "execution_count": 40,
   "metadata": {
    "collapsed": false
   },
   "outputs": [
    {
     "name": "stdout",
     "output_type": "stream",
     "text": [
      "num of parameters: 6157307\n",
      "[(40, 385), (385, 385), (385,), (40, 385), (385, 385), (385,), (40, 385), (385, 385), (385,), (40, 385), (385, 385), (385,), (385,), (385,), (385,), (1, 385), (1, 385), (385, 14247), (14247,)]\n"
     ]
    }
   ],
   "source": [
    "k1 = lasagne.layers.get_all_param_values(l_out1)\n",
    "print \"num of parameters: %d\"% reduce(lambda x,y:x+y, [k.size for k in k1])\n",
    "print [k.shape for k in k1]"
   ]
  },
  {
   "cell_type": "code",
   "execution_count": null,
   "metadata": {
    "collapsed": true
   },
   "outputs": [],
   "source": []
  }
 ],
 "metadata": {
  "kernelspec": {
   "display_name": "Python 2",
   "language": "python",
   "name": "python2"
  },
  "language_info": {
   "codemirror_mode": {
    "name": "ipython",
    "version": 2
   },
   "file_extension": ".py",
   "mimetype": "text/x-python",
   "name": "python",
   "nbconvert_exporter": "python",
   "pygments_lexer": "ipython2",
   "version": "2.7.11"
  }
 },
 "nbformat": 4,
 "nbformat_minor": 0
}
