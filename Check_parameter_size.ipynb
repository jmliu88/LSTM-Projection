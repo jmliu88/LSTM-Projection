{
 "cells": [
  {
   "cell_type": "code",
   "execution_count": 23,
   "metadata": {
    "collapsed": false
   },
   "outputs": [],
   "source": [
    "import LSTMP\n",
    "reload(LSTMP)\n",
    "from LSTMP import LSTMPLayer\n",
    "import lasagne\n",
    "from lasagne.layers import *"
   ]
  },
  {
   "cell_type": "code",
   "execution_count": 24,
   "metadata": {
    "collapsed": false
   },
   "outputs": [
    {
     "data": {
      "text/plain": [
       "<LSTMP.LSTMPLayer at 0x7fa04946b150>"
      ]
     },
     "execution_count": 24,
     "metadata": {},
     "output_type": "execute_result"
    }
   ],
   "source": [
    "LSTMPLayer(l_inp,num_units)"
   ]
  },
  {
   "cell_type": "code",
   "execution_count": 25,
   "metadata": {
    "collapsed": false
   },
   "outputs": [],
   "source": [
    "# Build Network\n",
    "num_inputs, num_units, num_cells, num_classes = 40, 800, 6000, 14247\n",
    "\n",
    "l_inp = InputLayer((None, None, num_inputs))\n",
    "\n",
    "batchsize, seqlen, _ = l_inp.input_var.shape\n",
    "l_lstm=l_inp\n",
    "for _ in range(1):\n",
    "    l_lstm = LSTMPLayer(l_lstm, num_units=num_units, num_cells=num_cells)\n",
    "\n",
    "l_shp = ReshapeLayer(l_lstm, (-1, num_units))\n",
    "l_dense = DenseLayer(l_shp, num_units=num_classes, nonlinearity=lasagne.nonlinearities.softmax)\n",
    "\n",
    "l_out2 = ReshapeLayer(l_dense, (batchsize, seqlen, num_classes))"
   ]
  },
  {
   "cell_type": "code",
   "execution_count": 26,
   "metadata": {
    "collapsed": false
   },
   "outputs": [
    {
     "ename": "MissingInputError",
     "evalue": "An input of the graph, used to compute HostFromGpu(projection), was not provided and not given a value.Use the Theano flag exception_verbosity='high',for more information on this error.\n\nBacktrace when the variable is created:\n  File \"/home/james/miniconda2/lib/python2.7/site-packages/ipykernel/ipkernel.py\", line 175, in do_execute\n    shell.run_cell(code, store_history=store_history, silent=silent)\n  File \"/home/james/miniconda2/lib/python2.7/site-packages/IPython/core/interactiveshell.py\", line 2902, in run_cell\n    interactivity=interactivity, compiler=compiler, result=result)\n  File \"/home/james/miniconda2/lib/python2.7/site-packages/IPython/core/interactiveshell.py\", line 3006, in run_ast_nodes\n    if self.run_code(code, result):\n  File \"/home/james/miniconda2/lib/python2.7/site-packages/IPython/core/interactiveshell.py\", line 3066, in run_code\n    exec(code_obj, self.user_global_ns, self.user_ns)\n  File \"<ipython-input-25-d38fc6695089>\", line 9, in <module>\n    l_lstm = LSTMPLayer(l_lstm, num_units=num_units, num_cells=num_cells)\n  File \"LSTMP.py\", line 151, in __init__\n    name=\"projection\")\n  File \"/usr/local/lib/python2.7/dist-packages/lasagne/layers/base.py\", line 214, in add_param\n    param = utils.create_param(spec, shape, name)\n  File \"/usr/local/lib/python2.7/dist-packages/lasagne/utils.py\", line 362, in create_param\n    return theano.shared(arr, name=name)\n",
     "output_type": "error",
     "traceback": [
      "\u001b[1;31m---------------------------------------------------------------------------\u001b[0m",
      "\u001b[1;31mMissingInputError\u001b[0m                         Traceback (most recent call last)",
      "\u001b[1;32m<ipython-input-26-6a177502944a>\u001b[0m in \u001b[0;36m<module>\u001b[1;34m()\u001b[0m\n\u001b[1;32m----> 1\u001b[1;33m \u001b[0mlasagne\u001b[0m\u001b[1;33m.\u001b[0m\u001b[0mlayers\u001b[0m\u001b[1;33m.\u001b[0m\u001b[0mget_output\u001b[0m\u001b[1;33m(\u001b[0m\u001b[0ml_out2\u001b[0m\u001b[1;33m)\u001b[0m\u001b[1;33m\u001b[0m\u001b[0m\n\u001b[0m",
      "\u001b[1;32m/usr/local/lib/python2.7/dist-packages/lasagne/layers/helper.pyc\u001b[0m in \u001b[0;36mget_output\u001b[1;34m(layer_or_layers, inputs, **kwargs)\u001b[0m\n\u001b[0;32m    189\u001b[0m                                  \u001b[1;34m\"mapping this layer to an input expression.\"\u001b[0m\u001b[1;33m\u001b[0m\u001b[0m\n\u001b[0;32m    190\u001b[0m                                  % layer)\n\u001b[1;32m--> 191\u001b[1;33m             \u001b[0mall_outputs\u001b[0m\u001b[1;33m[\u001b[0m\u001b[0mlayer\u001b[0m\u001b[1;33m]\u001b[0m \u001b[1;33m=\u001b[0m \u001b[0mlayer\u001b[0m\u001b[1;33m.\u001b[0m\u001b[0mget_output_for\u001b[0m\u001b[1;33m(\u001b[0m\u001b[0mlayer_inputs\u001b[0m\u001b[1;33m,\u001b[0m \u001b[1;33m**\u001b[0m\u001b[0mkwargs\u001b[0m\u001b[1;33m)\u001b[0m\u001b[1;33m\u001b[0m\u001b[0m\n\u001b[0m\u001b[0;32m    192\u001b[0m             \u001b[1;32mtry\u001b[0m\u001b[1;33m:\u001b[0m\u001b[1;33m\u001b[0m\u001b[0m\n\u001b[0;32m    193\u001b[0m                 \u001b[0mnames\u001b[0m\u001b[1;33m,\u001b[0m \u001b[0m_\u001b[0m\u001b[1;33m,\u001b[0m \u001b[0m_\u001b[0m\u001b[1;33m,\u001b[0m \u001b[0mdefaults\u001b[0m \u001b[1;33m=\u001b[0m \u001b[0mgetargspec\u001b[0m\u001b[1;33m(\u001b[0m\u001b[0mlayer\u001b[0m\u001b[1;33m.\u001b[0m\u001b[0mget_output_for\u001b[0m\u001b[1;33m)\u001b[0m\u001b[1;33m\u001b[0m\u001b[0m\n",
      "\u001b[1;32m/home/james/lasagne/LSTMP.py\u001b[0m in \u001b[0;36mget_output_for\u001b[1;34m(self, inputs, **kwargs)\u001b[0m\n\u001b[0;32m    356\u001b[0m                 \u001b[0mtruncate_gradient\u001b[0m\u001b[1;33m=\u001b[0m\u001b[0mself\u001b[0m\u001b[1;33m.\u001b[0m\u001b[0mgradient_steps\u001b[0m\u001b[1;33m,\u001b[0m\u001b[1;33m\u001b[0m\u001b[0m\n\u001b[0;32m    357\u001b[0m                 \u001b[0mnon_sequences\u001b[0m\u001b[1;33m=\u001b[0m\u001b[0mnon_seqs\u001b[0m\u001b[1;33m,\u001b[0m\u001b[1;33m\u001b[0m\u001b[0m\n\u001b[1;32m--> 358\u001b[1;33m                 strict=True)[0]\n\u001b[0m\u001b[0;32m    359\u001b[0m \u001b[1;33m\u001b[0m\u001b[0m\n\u001b[0;32m    360\u001b[0m         \u001b[1;31m# When it is requested that we only return the final sequence step,\u001b[0m\u001b[1;33m\u001b[0m\u001b[1;33m\u001b[0m\u001b[0m\n",
      "\u001b[1;32m/usr/local/lib/python2.7/dist-packages/theano/scan_module/scan.pyc\u001b[0m in \u001b[0;36mscan\u001b[1;34m(fn, sequences, outputs_info, non_sequences, n_steps, truncate_gradient, go_backwards, mode, name, profile, allow_gc, strict)\u001b[0m\n\u001b[0;32m   1033\u001b[0m     \u001b[0minfo\u001b[0m\u001b[1;33m[\u001b[0m\u001b[1;34m'strict'\u001b[0m\u001b[1;33m]\u001b[0m \u001b[1;33m=\u001b[0m \u001b[0mstrict\u001b[0m\u001b[1;33m\u001b[0m\u001b[0m\n\u001b[0;32m   1034\u001b[0m \u001b[1;33m\u001b[0m\u001b[0m\n\u001b[1;32m-> 1035\u001b[1;33m     \u001b[0mlocal_op\u001b[0m \u001b[1;33m=\u001b[0m \u001b[0mscan_op\u001b[0m\u001b[1;33m.\u001b[0m\u001b[0mScan\u001b[0m\u001b[1;33m(\u001b[0m\u001b[0minner_inputs\u001b[0m\u001b[1;33m,\u001b[0m \u001b[0mnew_outs\u001b[0m\u001b[1;33m,\u001b[0m \u001b[0minfo\u001b[0m\u001b[1;33m)\u001b[0m\u001b[1;33m\u001b[0m\u001b[0m\n\u001b[0m\u001b[0;32m   1036\u001b[0m \u001b[1;33m\u001b[0m\u001b[0m\n\u001b[0;32m   1037\u001b[0m     \u001b[1;31m##\u001b[0m\u001b[1;33m\u001b[0m\u001b[1;33m\u001b[0m\u001b[0m\n",
      "\u001b[1;32m/usr/local/lib/python2.7/dist-packages/theano/scan_module/scan_op.pyc\u001b[0m in \u001b[0;36m__init__\u001b[1;34m(self, inputs, outputs, info, typeConstructor)\u001b[0m\n\u001b[0;32m    210\u001b[0m             tmp_in, tmp_out = scan_utils.reconstruct_graph(self.inputs,\n\u001b[0;32m    211\u001b[0m                                                            self.outputs)\n\u001b[1;32m--> 212\u001b[1;33m             \u001b[0mlocal_fgraph\u001b[0m \u001b[1;33m=\u001b[0m \u001b[0mgof\u001b[0m\u001b[1;33m.\u001b[0m\u001b[0mFunctionGraph\u001b[0m\u001b[1;33m(\u001b[0m\u001b[0mtmp_in\u001b[0m\u001b[1;33m,\u001b[0m \u001b[0mtmp_out\u001b[0m\u001b[1;33m,\u001b[0m \u001b[0mclone\u001b[0m\u001b[1;33m=\u001b[0m\u001b[0mFalse\u001b[0m\u001b[1;33m)\u001b[0m\u001b[1;33m\u001b[0m\u001b[0m\n\u001b[0m\u001b[0;32m    213\u001b[0m             self._cmodule_key = gof.CLinker().cmodule_key_variables(self.inputs,\n\u001b[0;32m    214\u001b[0m                                                                     \u001b[0mself\u001b[0m\u001b[1;33m.\u001b[0m\u001b[0moutputs\u001b[0m\u001b[1;33m,\u001b[0m\u001b[1;33m\u001b[0m\u001b[0m\n",
      "\u001b[1;32m/usr/local/lib/python2.7/dist-packages/theano/gof/fg.pyc\u001b[0m in \u001b[0;36m__init__\u001b[1;34m(self, inputs, outputs, features, clone, update_mapping)\u001b[0m\n\u001b[0;32m    179\u001b[0m \u001b[1;33m\u001b[0m\u001b[0m\n\u001b[0;32m    180\u001b[0m         \u001b[1;32mfor\u001b[0m \u001b[0moutput\u001b[0m \u001b[1;32min\u001b[0m \u001b[0moutputs\u001b[0m\u001b[1;33m:\u001b[0m\u001b[1;33m\u001b[0m\u001b[0m\n\u001b[1;32m--> 181\u001b[1;33m             \u001b[0mself\u001b[0m\u001b[1;33m.\u001b[0m\u001b[0m__import_r__\u001b[0m\u001b[1;33m(\u001b[0m\u001b[0moutput\u001b[0m\u001b[1;33m,\u001b[0m \u001b[0mreason\u001b[0m\u001b[1;33m=\u001b[0m\u001b[1;34m\"init\"\u001b[0m\u001b[1;33m)\u001b[0m\u001b[1;33m\u001b[0m\u001b[0m\n\u001b[0m\u001b[0;32m    182\u001b[0m         \u001b[1;32mfor\u001b[0m \u001b[0mi\u001b[0m\u001b[1;33m,\u001b[0m \u001b[0moutput\u001b[0m \u001b[1;32min\u001b[0m \u001b[0menumerate\u001b[0m\u001b[1;33m(\u001b[0m\u001b[0moutputs\u001b[0m\u001b[1;33m)\u001b[0m\u001b[1;33m:\u001b[0m\u001b[1;33m\u001b[0m\u001b[0m\n\u001b[0;32m    183\u001b[0m             \u001b[0moutput\u001b[0m\u001b[1;33m.\u001b[0m\u001b[0mclients\u001b[0m\u001b[1;33m.\u001b[0m\u001b[0mappend\u001b[0m\u001b[1;33m(\u001b[0m\u001b[1;33m(\u001b[0m\u001b[1;34m'output'\u001b[0m\u001b[1;33m,\u001b[0m \u001b[0mi\u001b[0m\u001b[1;33m)\u001b[0m\u001b[1;33m)\u001b[0m\u001b[1;33m\u001b[0m\u001b[0m\n",
      "\u001b[1;32m/usr/local/lib/python2.7/dist-packages/theano/gof/fg.pyc\u001b[0m in \u001b[0;36m__import_r__\u001b[1;34m(self, variable, reason)\u001b[0m\n\u001b[0;32m    374\u001b[0m         \u001b[1;31m# Imports the owners of the variables\u001b[0m\u001b[1;33m\u001b[0m\u001b[1;33m\u001b[0m\u001b[0m\n\u001b[0;32m    375\u001b[0m         \u001b[1;32mif\u001b[0m \u001b[0mvariable\u001b[0m\u001b[1;33m.\u001b[0m\u001b[0mowner\u001b[0m \u001b[1;32mand\u001b[0m \u001b[0mvariable\u001b[0m\u001b[1;33m.\u001b[0m\u001b[0mowner\u001b[0m \u001b[1;32mnot\u001b[0m \u001b[1;32min\u001b[0m \u001b[0mself\u001b[0m\u001b[1;33m.\u001b[0m\u001b[0mapply_nodes\u001b[0m\u001b[1;33m:\u001b[0m\u001b[1;33m\u001b[0m\u001b[0m\n\u001b[1;32m--> 376\u001b[1;33m                 \u001b[0mself\u001b[0m\u001b[1;33m.\u001b[0m\u001b[0m__import__\u001b[0m\u001b[1;33m(\u001b[0m\u001b[0mvariable\u001b[0m\u001b[1;33m.\u001b[0m\u001b[0mowner\u001b[0m\u001b[1;33m,\u001b[0m \u001b[0mreason\u001b[0m\u001b[1;33m=\u001b[0m\u001b[0mreason\u001b[0m\u001b[1;33m)\u001b[0m\u001b[1;33m\u001b[0m\u001b[0m\n\u001b[0m\u001b[0;32m    377\u001b[0m         if (variable.owner is None and\n\u001b[0;32m    378\u001b[0m                 \u001b[1;32mnot\u001b[0m \u001b[0misinstance\u001b[0m\u001b[1;33m(\u001b[0m\u001b[0mvariable\u001b[0m\u001b[1;33m,\u001b[0m \u001b[0mgraph\u001b[0m\u001b[1;33m.\u001b[0m\u001b[0mConstant\u001b[0m\u001b[1;33m)\u001b[0m \u001b[1;32mand\u001b[0m\u001b[1;33m\u001b[0m\u001b[0m\n",
      "\u001b[1;32m/usr/local/lib/python2.7/dist-packages/theano/gof/fg.pyc\u001b[0m in \u001b[0;36m__import__\u001b[1;34m(self, apply_node, check, reason)\u001b[0m\n\u001b[0;32m    416\u001b[0m                             \u001b[1;34m\"for more information on this error.\"\u001b[0m\u001b[1;33m\u001b[0m\u001b[0m\n\u001b[0;32m    417\u001b[0m                             % str(node)),\n\u001b[1;32m--> 418\u001b[1;33m                             variable=r)\n\u001b[0m\u001b[0;32m    419\u001b[0m \u001b[1;33m\u001b[0m\u001b[0m\n\u001b[0;32m    420\u001b[0m         \u001b[1;32mfor\u001b[0m \u001b[0mnode\u001b[0m \u001b[1;32min\u001b[0m \u001b[0mnew_nodes\u001b[0m\u001b[1;33m:\u001b[0m\u001b[1;33m\u001b[0m\u001b[0m\n",
      "\u001b[1;31mMissingInputError\u001b[0m: An input of the graph, used to compute HostFromGpu(projection), was not provided and not given a value.Use the Theano flag exception_verbosity='high',for more information on this error.\n\nBacktrace when the variable is created:\n  File \"/home/james/miniconda2/lib/python2.7/site-packages/ipykernel/ipkernel.py\", line 175, in do_execute\n    shell.run_cell(code, store_history=store_history, silent=silent)\n  File \"/home/james/miniconda2/lib/python2.7/site-packages/IPython/core/interactiveshell.py\", line 2902, in run_cell\n    interactivity=interactivity, compiler=compiler, result=result)\n  File \"/home/james/miniconda2/lib/python2.7/site-packages/IPython/core/interactiveshell.py\", line 3006, in run_ast_nodes\n    if self.run_code(code, result):\n  File \"/home/james/miniconda2/lib/python2.7/site-packages/IPython/core/interactiveshell.py\", line 3066, in run_code\n    exec(code_obj, self.user_global_ns, self.user_ns)\n  File \"<ipython-input-25-d38fc6695089>\", line 9, in <module>\n    l_lstm = LSTMPLayer(l_lstm, num_units=num_units, num_cells=num_cells)\n  File \"LSTMP.py\", line 151, in __init__\n    name=\"projection\")\n  File \"/usr/local/lib/python2.7/dist-packages/lasagne/layers/base.py\", line 214, in add_param\n    param = utils.create_param(spec, shape, name)\n  File \"/usr/local/lib/python2.7/dist-packages/lasagne/utils.py\", line 362, in create_param\n    return theano.shared(arr, name=name)\n"
     ]
    }
   ],
   "source": [
    "lasagne.layers.get_output(l_out2)"
   ]
  },
  {
   "cell_type": "code",
   "execution_count": 12,
   "metadata": {
    "collapsed": false
   },
   "outputs": [
    {
     "name": "stdout",
     "output_type": "stream",
     "text": [
      "(None, None, 800)\n",
      "36420647\n",
      "[(40, 6000), (800, 6000), (6000,), (40, 6000), (800, 6000), (6000,), (40, 6000), (800, 6000), (6000,), (40, 6000), (800, 6000), (6000,), (6000,), (6000,), (6000,), (6000, 800), (1, 6000), (1, 800), (800, 14247), (14247,)]\n"
     ]
    }
   ],
   "source": [
    "# Count number of parameters in the network\n",
    "print lasagne.layers.get_output_shape(l_lstm)\n",
    "k2 = lasagne.layers.get_all_param_values(l_out2)\n",
    "print reduce(lambda x,y:x+y, [k.size for k in k2])\n",
    "print [k.shape for k in k2]"
   ]
  },
  {
   "cell_type": "code",
   "execution_count": 111,
   "metadata": {
    "collapsed": false
   },
   "outputs": [
    {
     "name": "stdout",
     "output_type": "stream",
     "text": [
      "{W_cell_to_outgate: (6000,), b_ingate: (6000,), b_forgetgate: (6000,), hid_init: (1, 800), W_cell_to_forgetgate: (6000,), W_cell_to_ingate: (6000,), projection: (6000, 800), b_cell: (6000,), W_in_to_ingate: (40, 6000), cell_init: (1, 6000), W_hid_to_forgetgate: (800, 6000), W_in_to_cell: (40, 6000), W_in_to_outgate: (40, 6000), W_hid_to_ingate: (800, 6000), W_hid_to_outgate: (800, 6000), b_outgate: (6000,), W_in_to_forgetgate: (40, 6000), W_hid_to_cell: (800, 6000)}\n"
     ]
    }
   ],
   "source": [
    "d={}\n",
    "for i,l in enumerate(lasagne.layers.get_all_params(l_lstm)):\n",
    "    d[l]=lasagne.layers.get_all_param_values(l_lstm)[i].shape\n",
    "print d"
   ]
  },
  {
   "cell_type": "code",
   "execution_count": 74,
   "metadata": {
    "collapsed": true
   },
   "outputs": [],
   "source": [
    "# Conventional LSTM\n",
    "num_inputs, num_units, num_classes = 40, 840, 14247\n",
    "\n",
    "l_inp = InputLayer((None, None, num_inputs))\n",
    "\n",
    "batchsize, seqlen, _ = l_inp.input_var.shape\n",
    "l_lstm=l_inp\n",
    "for _ in range(5):\n",
    "    l_lstm = LSTMLayer(l_inp, num_units=num_units)\n",
    "    \n",
    "l_shp = ReshapeLayer(l_lstm, (-1, num_units))\n",
    "l_dense = DenseLayer(l_shp, num_units=num_classes, nonlinearity=lasagne.nonlinearities.softmax)\n",
    "\n",
    "\n",
    "l_out1 = ReshapeLayer(l_dense, (batchsize, seqlen, num_classes))\n"
   ]
  },
  {
   "cell_type": "code",
   "execution_count": 112,
   "metadata": {
    "collapsed": false
   },
   "outputs": [
    {
     "name": "stdout",
     "output_type": "stream",
     "text": [
      "13076247\n",
      "[(40, 750), (750, 750), (750,), (40, 750), (750, 750), (750,), (40, 750), (750, 750), (750,), (40, 750), (750, 750), (750,), (750,), (750,), (750,), (1, 750), (1, 750), (750, 14247), (14247,)]\n"
     ]
    }
   ],
   "source": [
    "k1 = lasagne.layers.get_all_param_values(l_out1)\n",
    "print reduce(lambda x,y:x+y, [k.size for k in k1])\n",
    "print [k.shape for k in k1]"
   ]
  }
 ],
 "metadata": {
  "kernelspec": {
   "display_name": "Python 2",
   "language": "python",
   "name": "python2"
  },
  "language_info": {
   "codemirror_mode": {
    "name": "ipython",
    "version": 2
   },
   "file_extension": ".py",
   "mimetype": "text/x-python",
   "name": "python",
   "nbconvert_exporter": "python",
   "pygments_lexer": "ipython2",
   "version": "2.7.11"
  }
 },
 "nbformat": 4,
 "nbformat_minor": 0
}
