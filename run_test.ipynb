{
 "cells": [
  {
   "cell_type": "code",
   "execution_count": 31,
   "metadata": {
    "collapsed": false
   },
   "outputs": [
    {
     "data": {
      "text/plain": [
       "<module 'test_lstmp' from 'test_lstmp.py'>"
      ]
     },
     "execution_count": 31,
     "metadata": {},
     "output_type": "execute_result"
    }
   ],
   "source": [
    "import test_lstmp\n",
    "reload(test_lstmp)"
   ]
  },
  {
   "cell_type": "code",
   "execution_count": 8,
   "metadata": {
    "collapsed": false
   },
   "outputs": [],
   "source": [
    "test_fun_names = [k for k in test_lstmp.__dict__.keys() if k.find('test_lstmp') != -1]"
   ]
  },
  {
   "cell_type": "code",
   "execution_count": 29,
   "metadata": {
    "collapsed": false
   },
   "outputs": [
    {
     "name": "stdout",
     "output_type": "stream",
     "text": [
      "test_lstmp_hid_init_layer: successed\n",
      "test_lstmp_hid_init_mask: successed\n",
      "test_lstmp_hid_init_layer_eval: successed\n",
      "[W_in_to_ingate, W_hid_to_ingate, b_ingate, W_in_to_forgetgate, W_hid_to_forgetgate, b_forgetgate, W_in_to_cell, W_hid_to_cell, b_cell, W_in_to_outgate, W_hid_to_outgate, b_outgate, projection]\n",
      "test_lstmp_nparams_no_peepholes: successed\n",
      "test_lstmp_bck: successed\n",
      "test_lstmp_unroll_scan_fwd: successed\n",
      "test_lstmp_grad_clipping: successed\n",
      "test_lstmp_nparams_learn_init: successed\n",
      "test_lstmp_unroll_scan_bck: successed\n",
      "test_lstmp_passthrough: failed\n",
      "test_lstmp_return_final: successed\n",
      "test_lstmp_nparams_hid_init_layer: successed\n",
      "test_lstmp_variable_input_size: successed\n",
      "test_lstmp_grad: successed\n",
      "test_lstmp_precompute: successed\n",
      "test_lstmp_nparams_peepholes: successed\n",
      "test_lstmp_return_shape: successed\n"
     ]
    }
   ],
   "source": [
    "for i in test_fun_names:\n",
    "    try:\n",
    "        exec(\"test_lstmp.%s()\"%i)\n",
    "        print i+\": successed\"\n",
    "    except:\n",
    "        print i+\": failed\""
   ]
  },
  {
   "cell_type": "code",
   "execution_count": 32,
   "metadata": {
    "collapsed": false
   },
   "outputs": [
    {
     "ename": "RuntimeError",
     "evalue": "parameter array has shape (6, 6), should be (6, 10)",
     "output_type": "error",
     "traceback": [
      "\u001b[1;31m---------------------------------------------------------------------------\u001b[0m",
      "\u001b[1;31mRuntimeError\u001b[0m                              Traceback (most recent call last)",
      "\u001b[1;32m<ipython-input-32-49e6b818914c>\u001b[0m in \u001b[0;36m<module>\u001b[1;34m()\u001b[0m\n\u001b[1;32m----> 1\u001b[1;33m \u001b[0mtest_lstmp\u001b[0m\u001b[1;33m.\u001b[0m\u001b[0mtest_lstmp_passthrough\u001b[0m\u001b[1;33m(\u001b[0m\u001b[1;33m)\u001b[0m\u001b[1;33m\u001b[0m\u001b[0m\n\u001b[0m",
      "\u001b[1;32m/home/james/lasagne/test_lstmp.py\u001b[0m in \u001b[0;36mtest_lstmp_passthrough\u001b[1;34m()\u001b[0m\n\u001b[0;32m    320\u001b[0m         np.eye(6).astype(theano.config.floatX), zero, zero, zero, None)\n\u001b[0;32m    321\u001b[0m     l_rec = LSTMPLayer(\n\u001b[1;32m--> 322\u001b[1;33m         l_in, 6, 10, pass_gate, no_gate, in_pass_gate, pass_gate, None)\n\u001b[0m\u001b[0;32m    323\u001b[0m     \u001b[0mout\u001b[0m \u001b[1;33m=\u001b[0m \u001b[0mlasagne\u001b[0m\u001b[1;33m.\u001b[0m\u001b[0mlayers\u001b[0m\u001b[1;33m.\u001b[0m\u001b[0mget_output\u001b[0m\u001b[1;33m(\u001b[0m\u001b[0ml_rec\u001b[0m\u001b[1;33m)\u001b[0m\u001b[1;33m\u001b[0m\u001b[0m\n\u001b[0;32m    324\u001b[0m     \u001b[0minp\u001b[0m \u001b[1;33m=\u001b[0m \u001b[0mnp\u001b[0m\u001b[1;33m.\u001b[0m\u001b[0marange\u001b[0m\u001b[1;33m(\u001b[0m\u001b[1;36m4\u001b[0m\u001b[1;33m*\u001b[0m\u001b[1;36m5\u001b[0m\u001b[1;33m*\u001b[0m\u001b[1;36m6\u001b[0m\u001b[1;33m)\u001b[0m\u001b[1;33m.\u001b[0m\u001b[0mreshape\u001b[0m\u001b[1;33m(\u001b[0m\u001b[1;36m4\u001b[0m\u001b[1;33m,\u001b[0m \u001b[1;36m5\u001b[0m\u001b[1;33m,\u001b[0m \u001b[1;36m6\u001b[0m\u001b[1;33m)\u001b[0m\u001b[1;33m.\u001b[0m\u001b[0mastype\u001b[0m\u001b[1;33m(\u001b[0m\u001b[0mtheano\u001b[0m\u001b[1;33m.\u001b[0m\u001b[0mconfig\u001b[0m\u001b[1;33m.\u001b[0m\u001b[0mfloatX\u001b[0m\u001b[1;33m)\u001b[0m\u001b[1;33m\u001b[0m\u001b[0m\n",
      "\u001b[1;32m/home/james/lasagne/LSTMP.pyc\u001b[0m in \u001b[0;36m__init__\u001b[1;34m(self, incoming, num_units, num_cells, W_hid_projection, ingate, forgetgate, cell, outgate, nonlinearity, cell_init, hid_init, backwards, learn_init, peepholes, gradient_steps, grad_clipping, unroll_scan, precompute_input, mask_input, only_return_final, **kwargs)\u001b[0m\n\u001b[0;32m    125\u001b[0m         (self.W_in_to_forgetgate, self.W_hid_to_forgetgate, self.b_forgetgate,\n\u001b[0;32m    126\u001b[0m          \u001b[0mself\u001b[0m\u001b[1;33m.\u001b[0m\u001b[0mnonlinearity_forgetgate\u001b[0m\u001b[1;33m)\u001b[0m \u001b[1;33m=\u001b[0m \u001b[0madd_proj_gate_params\u001b[0m\u001b[1;33m(\u001b[0m\u001b[0mforgetgate\u001b[0m\u001b[1;33m,\u001b[0m\u001b[1;33m\u001b[0m\u001b[0m\n\u001b[1;32m--> 127\u001b[1;33m                                                          'forgetgate')\n\u001b[0m\u001b[0;32m    128\u001b[0m \u001b[1;33m\u001b[0m\u001b[0m\n\u001b[0;32m    129\u001b[0m         (self.W_in_to_cell, self.W_hid_to_cell, self.b_cell,\n",
      "\u001b[1;32m/home/james/lasagne/LSTMP.pyc\u001b[0m in \u001b[0;36madd_proj_gate_params\u001b[1;34m(gate, gate_name)\u001b[0m\n\u001b[0;32m    110\u001b[0m             instance. \"\"\"\n\u001b[0;32m    111\u001b[0m             return (self.add_param(gate.W_in, (num_inputs, num_cells),\n\u001b[1;32m--> 112\u001b[1;33m                                    name=\"W_in_to_{}\".format(gate_name)),\n\u001b[0m\u001b[0;32m    113\u001b[0m                     self.add_param(gate.W_hid, (num_units, num_cells),\n\u001b[0;32m    114\u001b[0m                                    name=\"W_hid_to_{}\".format(gate_name)),\n",
      "\u001b[1;32m/usr/local/lib/python2.7/dist-packages/lasagne/layers/base.pyc\u001b[0m in \u001b[0;36madd_param\u001b[1;34m(self, spec, shape, name, **tags)\u001b[0m\n\u001b[0;32m    212\u001b[0m                 \u001b[0mname\u001b[0m \u001b[1;33m=\u001b[0m \u001b[1;34m\"%s.%s\"\u001b[0m \u001b[1;33m%\u001b[0m \u001b[1;33m(\u001b[0m\u001b[0mself\u001b[0m\u001b[1;33m.\u001b[0m\u001b[0mname\u001b[0m\u001b[1;33m,\u001b[0m \u001b[0mname\u001b[0m\u001b[1;33m)\u001b[0m\u001b[1;33m\u001b[0m\u001b[0m\n\u001b[0;32m    213\u001b[0m         \u001b[1;31m# create shared variable, or pass through given variable/expression\u001b[0m\u001b[1;33m\u001b[0m\u001b[1;33m\u001b[0m\u001b[0m\n\u001b[1;32m--> 214\u001b[1;33m         \u001b[0mparam\u001b[0m \u001b[1;33m=\u001b[0m \u001b[0mutils\u001b[0m\u001b[1;33m.\u001b[0m\u001b[0mcreate_param\u001b[0m\u001b[1;33m(\u001b[0m\u001b[0mspec\u001b[0m\u001b[1;33m,\u001b[0m \u001b[0mshape\u001b[0m\u001b[1;33m,\u001b[0m \u001b[0mname\u001b[0m\u001b[1;33m)\u001b[0m\u001b[1;33m\u001b[0m\u001b[0m\n\u001b[0m\u001b[0;32m    215\u001b[0m         \u001b[1;31m# parameters should be trainable and regularizable by default\u001b[0m\u001b[1;33m\u001b[0m\u001b[1;33m\u001b[0m\u001b[0m\n\u001b[0;32m    216\u001b[0m         \u001b[0mtags\u001b[0m\u001b[1;33m[\u001b[0m\u001b[1;34m'trainable'\u001b[0m\u001b[1;33m]\u001b[0m \u001b[1;33m=\u001b[0m \u001b[0mtags\u001b[0m\u001b[1;33m.\u001b[0m\u001b[0mget\u001b[0m\u001b[1;33m(\u001b[0m\u001b[1;34m'trainable'\u001b[0m\u001b[1;33m,\u001b[0m \u001b[0mTrue\u001b[0m\u001b[1;33m)\u001b[0m\u001b[1;33m\u001b[0m\u001b[0m\n",
      "\u001b[1;32m/usr/local/lib/python2.7/dist-packages/lasagne/utils.pyc\u001b[0m in \u001b[0;36mcreate_param\u001b[1;34m(spec, shape, name)\u001b[0m\n\u001b[0;32m    345\u001b[0m         \u001b[1;32mif\u001b[0m \u001b[0mspec\u001b[0m\u001b[1;33m.\u001b[0m\u001b[0mshape\u001b[0m \u001b[1;33m!=\u001b[0m \u001b[0mshape\u001b[0m\u001b[1;33m:\u001b[0m\u001b[1;33m\u001b[0m\u001b[0m\n\u001b[0;32m    346\u001b[0m             raise RuntimeError(\"parameter array has shape %s, should be \"\n\u001b[1;32m--> 347\u001b[1;33m                                \"%s\" % (spec.shape, shape))\n\u001b[0m\u001b[0;32m    348\u001b[0m         \u001b[1;32mreturn\u001b[0m \u001b[0mtheano\u001b[0m\u001b[1;33m.\u001b[0m\u001b[0mshared\u001b[0m\u001b[1;33m(\u001b[0m\u001b[0mspec\u001b[0m\u001b[1;33m,\u001b[0m \u001b[0mname\u001b[0m\u001b[1;33m=\u001b[0m\u001b[0mname\u001b[0m\u001b[1;33m)\u001b[0m\u001b[1;33m\u001b[0m\u001b[0m\n\u001b[0;32m    349\u001b[0m \u001b[1;33m\u001b[0m\u001b[0m\n",
      "\u001b[1;31mRuntimeError\u001b[0m: parameter array has shape (6, 6), should be (6, 10)"
     ]
    }
   ],
   "source": [
    "test_lstmp.test_lstmp_passthrough()"
   ]
  },
  {
   "cell_type": "code",
   "execution_count": 16,
   "metadata": {
    "collapsed": true
   },
   "outputs": [],
   "source": [
    "from test_lstmp import *"
   ]
  },
  {
   "cell_type": "code",
   "execution_count": 21,
   "metadata": {
    "collapsed": false
   },
   "outputs": [],
   "source": [
    "l_inp = InputLayer((2, 2, 3))\n",
    "l_lstmp = LSTMPLayer(l_inp, 5, peepholes=False, learn_init=False)\n",
    "l_lstm = LSTMLayer(l_inp, 5, peepholes=False, learn_init=False)"
   ]
  },
  {
   "cell_type": "code",
   "execution_count": 24,
   "metadata": {
    "collapsed": false
   },
   "outputs": [
    {
     "data": {
      "text/plain": [
       "[W_in_to_ingate,\n",
       " W_hid_to_ingate,\n",
       " b_ingate,\n",
       " W_in_to_forgetgate,\n",
       " W_hid_to_forgetgate,\n",
       " b_forgetgate,\n",
       " W_in_to_cell,\n",
       " W_hid_to_cell,\n",
       " b_cell,\n",
       " W_in_to_outgate,\n",
       " W_hid_to_outgate,\n",
       " b_outgate,\n",
       " projection]"
      ]
     },
     "execution_count": 24,
     "metadata": {},
     "output_type": "execute_result"
    }
   ],
   "source": [
    "lasagne.layers.get_all_params(l_lstmp, trainable=1)"
   ]
  },
  {
   "cell_type": "code",
   "execution_count": 25,
   "metadata": {
    "collapsed": false
   },
   "outputs": [
    {
     "data": {
      "text/plain": [
       "[W_in_to_ingate,\n",
       " W_hid_to_ingate,\n",
       " b_ingate,\n",
       " W_in_to_forgetgate,\n",
       " W_hid_to_forgetgate,\n",
       " b_forgetgate,\n",
       " W_in_to_cell,\n",
       " W_hid_to_cell,\n",
       " b_cell,\n",
       " W_in_to_outgate,\n",
       " W_hid_to_outgate,\n",
       " b_outgate]"
      ]
     },
     "execution_count": 25,
     "metadata": {},
     "output_type": "execute_result"
    }
   ],
   "source": [
    "lasagne.layers.get_all_params(l_lstm, trainable=1)"
   ]
  }
 ],
 "metadata": {
  "kernelspec": {
   "display_name": "Python 2",
   "language": "python",
   "name": "python2"
  },
  "language_info": {
   "codemirror_mode": {
    "name": "ipython",
    "version": 2
   },
   "file_extension": ".py",
   "mimetype": "text/x-python",
   "name": "python",
   "nbconvert_exporter": "python",
   "pygments_lexer": "ipython2",
   "version": "2.7.11"
  }
 },
 "nbformat": 4,
 "nbformat_minor": 0
}
