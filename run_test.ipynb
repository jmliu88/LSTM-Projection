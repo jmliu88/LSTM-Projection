{
 "cells": [
  {
   "cell_type": "code",
   "execution_count": 35,
   "metadata": {
    "collapsed": false
   },
   "outputs": [
    {
     "data": {
      "text/plain": [
       "<module 'test_lstmp' from 'test_lstmp.py'>"
      ]
     },
     "execution_count": 35,
     "metadata": {},
     "output_type": "execute_result"
    }
   ],
   "source": [
    "import test_lstmp\n",
    "reload(test_lstmp)"
   ]
  },
  {
   "cell_type": "code",
   "execution_count": 8,
   "metadata": {
    "collapsed": false
   },
   "outputs": [],
   "source": [
    "test_fun_names = [k for k in test_lstmp.__dict__.keys() if k.find('test_lstmp') != -1]"
   ]
  },
  {
   "cell_type": "code",
   "execution_count": 29,
   "metadata": {
    "collapsed": false
   },
   "outputs": [
    {
     "name": "stdout",
     "output_type": "stream",
     "text": [
      "test_lstmp_hid_init_layer: successed\n",
      "test_lstmp_hid_init_mask: successed\n",
      "test_lstmp_hid_init_layer_eval: successed\n",
      "[W_in_to_ingate, W_hid_to_ingate, b_ingate, W_in_to_forgetgate, W_hid_to_forgetgate, b_forgetgate, W_in_to_cell, W_hid_to_cell, b_cell, W_in_to_outgate, W_hid_to_outgate, b_outgate, projection]\n",
      "test_lstmp_nparams_no_peepholes: successed\n",
      "test_lstmp_bck: successed\n",
      "test_lstmp_unroll_scan_fwd: successed\n",
      "test_lstmp_grad_clipping: successed\n",
      "test_lstmp_nparams_learn_init: successed\n",
      "test_lstmp_unroll_scan_bck: successed\n",
      "test_lstmp_passthrough: failed\n",
      "test_lstmp_return_final: successed\n",
      "test_lstmp_nparams_hid_init_layer: successed\n",
      "test_lstmp_variable_input_size: successed\n",
      "test_lstmp_grad: successed\n",
      "test_lstmp_precompute: successed\n",
      "test_lstmp_nparams_peepholes: successed\n",
      "test_lstmp_return_shape: successed\n"
     ]
    }
   ],
   "source": [
    "for i in test_fun_names:\n",
    "    try:\n",
    "        exec(\"test_lstmp.%s()\"%i)\n",
    "        print i+\": successed\"\n",
    "    except:\n",
    "        print i+\": failed\""
   ]
  },
  {
   "cell_type": "code",
   "execution_count": 36,
   "metadata": {
    "collapsed": false
   },
   "outputs": [],
   "source": [
    "test_lstmp.test_lstmp_passthrough()"
   ]
  },
  {
   "cell_type": "code",
   "execution_count": 16,
   "metadata": {
    "collapsed": true
   },
   "outputs": [],
   "source": [
    "from test_lstmp import *"
   ]
  },
  {
   "cell_type": "code",
   "execution_count": 21,
   "metadata": {
    "collapsed": false
   },
   "outputs": [],
   "source": [
    "l_inp = InputLayer((2, 2, 3))\n",
    "l_lstmp = LSTMPLayer(l_inp, 5, peepholes=False, learn_init=False)\n",
    "l_lstm = LSTMLayer(l_inp, 5, peepholes=False, learn_init=False)"
   ]
  },
  {
   "cell_type": "code",
   "execution_count": 24,
   "metadata": {
    "collapsed": false
   },
   "outputs": [
    {
     "data": {
      "text/plain": [
       "[W_in_to_ingate,\n",
       " W_hid_to_ingate,\n",
       " b_ingate,\n",
       " W_in_to_forgetgate,\n",
       " W_hid_to_forgetgate,\n",
       " b_forgetgate,\n",
       " W_in_to_cell,\n",
       " W_hid_to_cell,\n",
       " b_cell,\n",
       " W_in_to_outgate,\n",
       " W_hid_to_outgate,\n",
       " b_outgate,\n",
       " projection]"
      ]
     },
     "execution_count": 24,
     "metadata": {},
     "output_type": "execute_result"
    }
   ],
   "source": [
    "lasagne.layers.get_all_params(l_lstmp, trainable=1)"
   ]
  },
  {
   "cell_type": "code",
   "execution_count": 25,
   "metadata": {
    "collapsed": false
   },
   "outputs": [
    {
     "data": {
      "text/plain": [
       "[W_in_to_ingate,\n",
       " W_hid_to_ingate,\n",
       " b_ingate,\n",
       " W_in_to_forgetgate,\n",
       " W_hid_to_forgetgate,\n",
       " b_forgetgate,\n",
       " W_in_to_cell,\n",
       " W_hid_to_cell,\n",
       " b_cell,\n",
       " W_in_to_outgate,\n",
       " W_hid_to_outgate,\n",
       " b_outgate]"
      ]
     },
     "execution_count": 25,
     "metadata": {},
     "output_type": "execute_result"
    }
   ],
   "source": [
    "lasagne.layers.get_all_params(l_lstm, trainable=1)"
   ]
  }
 ],
 "metadata": {
  "kernelspec": {
   "display_name": "Python 2",
   "language": "python",
   "name": "python2"
  },
  "language_info": {
   "codemirror_mode": {
    "name": "ipython",
    "version": 2
   },
   "file_extension": ".py",
   "mimetype": "text/x-python",
   "name": "python",
   "nbconvert_exporter": "python",
   "pygments_lexer": "ipython2",
   "version": "2.7.11"
  }
 },
 "nbformat": 4,
 "nbformat_minor": 0
}
