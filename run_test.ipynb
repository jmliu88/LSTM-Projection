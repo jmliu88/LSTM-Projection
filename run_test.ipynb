{
 "cells": [
  {
   "cell_type": "code",
   "execution_count": 37,
   "metadata": {
    "collapsed": false
   },
   "outputs": [
    {
     "data": {
      "text/plain": [
       "<module 'test_lstmp' from 'test_lstmp.pyc'>"
      ]
     },
     "execution_count": 37,
     "metadata": {},
     "output_type": "execute_result"
    }
   ],
   "source": [
    "import test_lstmp\n",
    "reload(test_lstmp)"
   ]
  },
  {
   "cell_type": "code",
   "execution_count": 38,
   "metadata": {
    "collapsed": false
   },
   "outputs": [],
   "source": [
    "test_fun_names = [k for k in test_lstmp.__dict__.keys() if k.find('test_lstmp') != -1]"
   ]
  },
  {
   "cell_type": "code",
   "execution_count": 39,
   "metadata": {
    "collapsed": false
   },
   "outputs": [
    {
     "name": "stdout",
     "output_type": "stream",
     "text": [
      "test_lstmp_hid_init_layer: successed\n",
      "test_lstmp_hid_init_mask: successed\n",
      "test_lstmp_hid_init_layer_eval: successed\n",
      "test_lstmp_nparams_no_peepholes: successed\n",
      "test_lstmp_bck: successed\n",
      "test_lstmp_unroll_scan_fwd: successed\n",
      "test_lstmp_grad_clipping: successed\n",
      "test_lstmp_nparams_learn_init: successed\n",
      "test_lstmp_unroll_scan_bck: successed\n",
      "test_lstmp_passthrough: successed\n",
      "test_lstmp_return_final: successed\n",
      "test_lstmp_nparams_hid_init_layer: successed\n",
      "test_lstmp_variable_input_size: successed\n",
      "test_lstmp_grad: successed\n",
      "test_lstmp_precompute: successed\n",
      "test_lstmp_nparams_peepholes: successed\n",
      "test_lstmp_return_shape: successed\n"
     ]
    }
   ],
   "source": [
    "for i in test_fun_names:\n",
    "    try:\n",
    "        exec(\"test_lstmp.%s()\"%i)\n",
    "        print i+\": successed\"\n",
    "    except:\n",
    "        print i+\": failed\""
   ]
  }
 ],
 "metadata": {
  "kernelspec": {
   "display_name": "Python 2",
   "language": "python",
   "name": "python2"
  },
  "language_info": {
   "codemirror_mode": {
    "name": "ipython",
    "version": 2
   },
   "file_extension": ".py",
   "mimetype": "text/x-python",
   "name": "python",
   "nbconvert_exporter": "python",
   "pygments_lexer": "ipython2",
   "version": "2.7.11"
  }
 },
 "nbformat": 4,
 "nbformat_minor": 0
}
